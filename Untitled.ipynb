{
 "cells": [
  {
   "cell_type": "code",
   "execution_count": 13,
   "metadata": {
    "collapsed": true
   },
   "outputs": [],
   "source": [
    "import json, time, requests\n",
    "from time import sleep"
   ]
  },
  {
   "cell_type": "code",
   "execution_count": 2,
   "metadata": {
    "collapsed": true
   },
   "outputs": [],
   "source": [
    "IMG_NAME = \"single_equation.png\"\n",
    "\n",
    "\n",
    "url = 'http://52.90.21.22:10500/upload'\n",
    "files = {'file': open('./' + IMG_NAME, 'rb')}\n",
    "headers = {'content-type': 'application/json'}"
   ]
  },
  {
   "cell_type": "code",
   "execution_count": 24,
   "metadata": {},
   "outputs": [
    {
     "name": "stdout",
     "output_type": "stream",
     "text": [
      "{\"cur_num\": 0, \"task_ID\": \"1516217535.75single_equation.png\", \"filename\": \"2018-01-17_19:32:15.746359__single_equation.png\"}\n"
     ]
    }
   ],
   "source": [
    "try:\n",
    "    r = requests.post(url, files=files)\n",
    "    print r.text\n",
    "    response = json.loads(r.text)\n",
    "    task_ID = response['task_ID']\n",
    "    payload = {'task_ID' : task_ID, 'password' : \"\"}\n",
    "    #\n",
    "except Exception as e :\n",
    "    print e"
   ]
  },
  {
   "cell_type": "code",
   "execution_count": 147,
   "metadata": {},
   "outputs": [
    {
     "name": "stdout",
     "output_type": "stream",
     "text": [
      "{\"cur_num\": 0, \"task_ID\": \"1516271369.37single_equation__2018-01-18_10:29:29.369559__172.31.28.205.png\", \"filename\": \"2018-01-18_10:29:29.374980__single_equation__2018-01-18_10:29:29.369559__172.31.28.205.png\"}\n",
      "{\"isResult\": \"false\", \"result\": \"String processing...\"}\n",
      "{\"confidence\": 0.991841420708943, \"isResult\": \"true\", \"result\": \"( 3 - x ) ( x - 2 ) = 0 \"}\n",
      "cost time:  0.901687145233\n"
     ]
    }
   ],
   "source": [
    "start_time = time.time()\n",
    "url = 'http://api.learningpal.com/math/upload'\n",
    "files = {'file': open('./' + IMG_NAME, 'rb')}\n",
    "headers = {'content-type': 'application/json'}\n",
    "\n",
    "try:\n",
    "    \n",
    "    r = requests.post(url, files=files)\n",
    "    print r.text\n",
    "    response = json.loads(r.text)\n",
    "    task_ID = response['task_ID']\n",
    "    payload = {'task_ID' : task_ID, 'password' : \"\"}\n",
    "    url2 = 'http://api.learningpal.com/math/result'\n",
    "    while True:\n",
    "        response = requests.post(url2, data=json.dumps(payload), headers=headers)\n",
    "        print response.text\n",
    "        if response.text and \"processing\" not in response.text:\n",
    "            break\n",
    "#         sleep(2)\n",
    "except Exception as e :\n",
    "    print e\n",
    "\n",
    "print 'cost time: ', str(time.time() - start_time)"
   ]
  },
  {
   "cell_type": "code",
   "execution_count": 10,
   "metadata": {
    "collapsed": true
   },
   "outputs": [],
   "source": [
    "def worker(IMG_NAME):\n",
    "    \n",
    "    try:\n",
    "#         url = \"http://54.147.28.159:12500/upload_for_grading\"\n",
    "        url = \"http://54.91.79.112:12500/upload_for_grading\"\n",
    "        files = {'file': open('./' + IMG_NAME, 'rb')}\n",
    "        headers = {'content-type': 'application/json','Connection':'close'}\n",
    "        r = requests.post(url, files=files)\n",
    "        response1 = json.loads(r.text)\n",
    "        task_ID = response1['task_ID']\n",
    "        payload = {'task_ID' : task_ID, 'password' : \"\"}\n",
    "#         url2 = 'http://54.147.28.159:12500/result'\n",
    "        url2 = 'http://54.91.79.112:12500/result'\n",
    "        while True:\n",
    "            response2 = requests.post(url2, data=json.dumps(payload), headers=headers)\n",
    "            result = json.loads(response2.text)\n",
    "            print result\n",
    "            if result['isResult'] == 'true':\n",
    "                break\n",
    "            time.sleep(1)\n",
    "            print 'Job is running...'\n",
    "        return result\n",
    "    except Exception as e :\n",
    "        print e"
   ]
  },
  {
   "cell_type": "code",
   "execution_count": 11,
   "metadata": {},
   "outputs": [
    {
     "name": "stdout",
     "output_type": "stream",
     "text": [
      "{u'isResult': u'false', u'result': u'String processing...'}\n",
      "Job is running...\n",
      "{u'isResult': u'false', u'result': u'String processing...'}\n",
      "Job is running...\n",
      "{u'isResult': u'false', u'result': u'String processing...'}\n",
      "Job is running...\n",
      "{u'isResult': u'false', u'result': u'String processing...'}\n",
      "Job is running...\n",
      "{u'isResult': u'false', u'result': u'String processing...'}\n",
      "Job is running...\n",
      "{u'isResult': u'false', u'result': u'String processing...'}\n",
      "Job is running...\n",
      "{u'isResult': u'false', u'result': u'String processing...'}\n",
      "Job is running...\n",
      "{u'isResult': u'false', u'result': u'String processing...'}\n",
      "Job is running...\n",
      "{u'isResult': u'false', u'result': u'String processing...'}\n",
      "Job is running...\n",
      "{u'isResult': u'false', u'result': u'String processing...'}\n",
      "Job is running...\n",
      "{u'isResult': u'false', u'result': u'String processing...'}\n",
      "Job is running...\n",
      "{u'isResult': u'false', u'result': u'String processing...'}\n",
      "Job is running...\n",
      "{u'isResult': u'false', u'result': u'String processing...'}\n",
      "Job is running...\n",
      "{u'isResult': u'true', u'results': {u'reslist': [{u'confidence': 0.003853233378501929, u'task_ID': u'1516349105.4math_hw.jpg', u'label': 0, u'trueOrFalse': None, u'result': u'Cannot \\\\  Recognize', u'rightAnswer': None, u'coordinate': {u'y': 1424, u'x': 470, u'w': 81, u'h': 20}}, {u'confidence': 0.22768348761287804, u'task_ID': u'1516349105.4math_hw.jpg', u'label': 2, u'trueOrFalse': None, u'result': u'( ( { 2 } )  )', u'rightAnswer': None, u'coordinate': {u'y': 1380, u'x': 398, u'w': 65, u'h': 33}}, {u'confidence': 0.004714933948168369, u'task_ID': u'1516349105.4math_hw.jpg', u'label': 4, u'trueOrFalse': None, u'result': u'Cannot \\\\  Recognize', u'rightAnswer': None, u'coordinate': {u'y': 1338, u'x': 111, u'w': 115, u'h': 41}}, {u'confidence': 0.0016396451460905603, u'task_ID': u'1516349105.4math_hw.jpg', u'label': 6, u'trueOrFalse': None, u'result': u'Cannot \\\\  Recognize', u'rightAnswer': None, u'coordinate': {u'y': 1336, u'x': 664, u'w': 148, u'h': 36}}, {u'confidence': 0.9720231704548932, u'task_ID': u'1516349105.4math_hw.jpg', u'label': 8, u'trueOrFalse': True, u'result': u'35 - 18 = 17 ', u'rightAnswer': None, u'coordinate': {u'y': 1248, u'x': 378, u'w': 199, u'h': 36}}, {u'confidence': 0.003622256770432055, u'task_ID': u'1516349105.4math_hw.jpg', u'label': 10, u'trueOrFalse': None, u'result': u'Cannot \\\\  Recognize', u'rightAnswer': None, u'coordinate': {u'y': 1243, u'x': 763, u'w': 180, u'h': 40}}, {u'confidence': 0.9367047878942439, u'task_ID': u'1516349105.4math_hw.jpg', u'label': 12, u'trueOrFalse': None, u'result': u'24 \\\\\\\\ d i v 4 = 6 ', u'rightAnswer': None, u'coordinate': {u'y': 1203, u'x': 377, u'w': 180, u'h': 33}}, {u'confidence': 0.32812834547876585, u'task_ID': u'1516349105.4math_hw.jpg', u'label': 14, u'trueOrFalse': None, u'result': u'48 \\\\\\\\ d i v 8 = 6 ', u'rightAnswer': None, u'coordinate': {u'y': 1152, u'x': 364, u'w': 189, u'h': 41}}, {u'confidence': 0.0010633910686148767, u'task_ID': u'1516349105.4math_hw.jpg', u'label': 16, u'trueOrFalse': None, u'result': u'Cannot \\\\  Recognize', u'rightAnswer': None, u'coordinate': {u'y': 1137, u'x': 658, u'w': 324, u'h': 48}}, {u'confidence': 0.9924788990091328, u'task_ID': u'1516349105.4math_hw.jpg', u'label': 18, u'trueOrFalse': False, u'result': u'39 = 2 ', u'rightAnswer': None, u'coordinate': {u'y': 1106, u'x': 457, u'w': 118, u'h': 29}}, {u'confidence': 4.35693758552549e-06, u'task_ID': u'1516349105.4math_hw.jpg', u'label': 20, u'trueOrFalse': None, u'result': u'Cannot \\\\  Recognize', u'rightAnswer': None, u'coordinate': {u'y': 1086, u'x': 671, u'w': 294, u'h': 45}}, {u'confidence': 0.951919401831655, u'task_ID': u'1516349105.4math_hw.jpg', u'label': 22, u'trueOrFalse': True, u'result': u'56 + 42 = 98 ', u'rightAnswer': None, u'coordinate': {u'y': 1053, u'x': 82, u'w': 219, u'h': 49}}, {u'confidence': 0.9876320982447709, u'task_ID': u'1516349105.4math_hw.jpg', u'label': 24, u'trueOrFalse': None, u'result': u'= 8 ', u'rightAnswer': None, u'coordinate': {u'y': 1009, u'x': 474, u'w': 72, u'h': 33}}, {u'confidence': 0.9819257200633104, u'task_ID': u'1516349105.4math_hw.jpg', u'label': 26, u'trueOrFalse': True, u'result': u'87 + 11 = 98 ', u'rightAnswer': None, u'coordinate': {u'y': 1004, u'x': 77, u'w': 217, u'h': 48}}, {u'confidence': 0.16722803489706953, u'task_ID': u'1516349105.4math_hw.jpg', u'label': 28, u'trueOrFalse': None, u'result': u'5 \\\\\\\\ d i ', u'rightAnswer': None, u'coordinate': {u'y': 987, u'x': 674, u'w': 96, u'h': 33}}, {u'confidence': 0.6867582547823564, u'task_ID': u'1516349105.4math_hw.jpg', u'label': 30, u'trueOrFalse': True, u'result': u'83 + 14 = 97 ', u'rightAnswer': None, u'coordinate': {u'y': 956, u'x': 376, u'w': 204, u'h': 37}}, {u'confidence': 0.1946613159475522, u'task_ID': u'1516349105.4math_hw.jpg', u'label': 32, u'trueOrFalse': None, u'result': u'15 \\\\\\\\ d i \\\\div 5 = 3 ', u'rightAnswer': None, u'coordinate': {u'y': 911, u'x': 382, u'w': 175, u'h': 37}}, {u'confidence': 0.9836502771302003, u'task_ID': u'1516349105.4math_hw.jpg', u'label': 35, u'trueOrFalse': True, u'result': u'7 + 47 = 54 ', u'rightAnswer': None, u'coordinate': {u'y': 859, u'x': 373, u'w': 204, u'h': 48}}, {u'confidence': 0.0003140211169493559, u'task_ID': u'1516349105.4math_hw.jpg', u'label': 37, u'trueOrFalse': None, u'result': u'Cannot \\\\  Recognize', u'rightAnswer': None, u'coordinate': {u'y': 829, u'x': 688, u'w': 302, u'h': 44}}, {u'confidence': 0.9301644022737822, u'task_ID': u'1516349105.4math_hw.jpg', u'label': 39, u'trueOrFalse': True, u'result': u'26 + 61 = 87 ', u'rightAnswer': None, u'coordinate': {u'y': 806, u'x': 77, u'w': 205, u'h': 49}}, {u'confidence': 0.9836551269605487, u'task_ID': u'1516349105.4math_hw.jpg', u'label': 41, u'trueOrFalse': True, u'result': u'68 - 68 = 0 ', u'rightAnswer': None, u'coordinate': {u'y': 761, u'x': 76, u'w': 190, u'h': 36}}, {u'confidence': 0.0021497633673816146, u'task_ID': u'1516349105.4math_hw.jpg', u'label': 43, u'trueOrFalse': None, u'result': u'Cannot \\\\  Recognize', u'rightAnswer': None, u'coordinate': {u'y': 719, u'x': 677, u'w': 277, u'h': 44}}, {u'confidence': 0.10473030104304717, u'task_ID': u'1516349105.4math_hw.jpg', u'label': 45, u'trueOrFalse': None, u'result': u'{ 20 \\\\\\\\ \\\\\\\\ d } { 4 = 5  }', u'rightAnswer': None, u'coordinate': {u'y': 705, u'x': 376, u'w': 183, u'h': 45}}, {u'confidence': 0.9973148030453378, u'task_ID': u'1516349105.4math_hw.jpg', u'label': 47, u'trueOrFalse': False, u'result': u'13 = 20 ', u'rightAnswer': None, u'coordinate': {u'y': 656, u'x': 454, u'w': 135, u'h': 45}}, {u'confidence': 0.9958749752088049, u'task_ID': u'1516349105.4math_hw.jpg', u'label': 49, u'trueOrFalse': True, u'result': u'34 + 46 = 80 ', u'rightAnswer': None, u'coordinate': {u'y': 655, u'x': 63, u'w': 214, u'h': 40}}, {u'confidence': 0.9824061901644494, u'task_ID': u'1516349105.4math_hw.jpg', u'label': 51, u'trueOrFalse': None, u'result': u'15 \\\\\\\\ d i v 3 = 5 ', u'rightAnswer': None, u'coordinate': {u'y': 604, u'x': 381, u'w': 175, u'h': 45}}, {u'confidence': 0.25249540548228794, u'task_ID': u'1516349105.4math_hw.jpg', u'label': 53, u'trueOrFalse': None, u'result': u'1 \\\\\\\\ x ', u'rightAnswer': None, u'coordinate': {u'y': 562, u'x': 686, u'w': 92, u'h': 36}}, {u'confidence': 0.9833752993791068, u'task_ID': u'1516349105.4math_hw.jpg', u'label': 55, u'trueOrFalse': True, u'result': u'70 - 40 = 30 ', u'rightAnswer': None, u'coordinate': {u'y': 552, u'x': 373, u'w': 213, u'h': 49}}, {u'confidence': 0.22443893394205255, u'task_ID': u'1516349105.4math_hw.jpg', u'label': 58, u'trueOrFalse': False, u'result': u'5 x + 3 = 16 ', u'rightAnswer': None, u'coordinate': {u'y': 500, u'x': 372, u'w': 175, u'h': 44}}, {u'confidence': 0.9845574638638952, u'task_ID': u'1516349105.4math_hw.jpg', u'label': 60, u'trueOrFalse': True, u'result': u'39 + 18 = 57 ', u'rightAnswer': None, u'coordinate': {u'y': 449, u'x': 373, u'w': 209, u'h': 41}}, {u'confidence': 0.9968192598460588, u'task_ID': u'1516349105.4math_hw.jpg', u'label': 62, u'trueOrFalse': True, u'result': u'37 - 25 = 12 ', u'rightAnswer': None, u'coordinate': {u'y': 445, u'x': 65, u'w': 207, u'h': 44}}, {u'confidence': 0.0015342710837045691, u'task_ID': u'1516349105.4math_hw.jpg', u'label': 64, u'trueOrFalse': None, u'result': u'Cannot \\\\  Recognize', u'rightAnswer': None, u'coordinate': {u'y': 391, u'x': 676, u'w': 208, u'h': 52}}, {u'confidence': 3.837122205336375e-06, u'task_ID': u'1516349105.4math_hw.jpg', u'label': 66, u'trueOrFalse': None, u'result': u'Cannot \\\\  Recognize', u'rightAnswer': None, u'coordinate': {u'y': 295, u'x': 665, u'w': 261, u'h': 85}}, {u'confidence': 0.001282238343814601, u'task_ID': u'1516349105.4math_hw.jpg', u'label': 68, u'trueOrFalse': None, u'result': u'Cannot \\\\  Recognize', u'rightAnswer': None, u'coordinate': {u'y': 290, u'x': 44, u'w': 273, u'h': 89}}, {u'confidence': 0.012479622432775199, u'task_ID': u'1516349105.4math_hw.jpg', u'label': 70, u'trueOrFalse': None, u'result': u'Cannot \\\\  Recognize', u'rightAnswer': None, u'coordinate': {u'y': 222, u'x': 733, u'w': 158, u'h': 36}}, {u'confidence': 0.17226824049251502, u'task_ID': u'1516349105.4math_hw.jpg', u'label': 73, u'trueOrFalse': None, u'result': u'\\\\frac { \\\\pi } { 28 } ', u'rightAnswer': None, u'coordinate': {u'y': 15, u'x': 1029, u'w': 51, u'h': 85}}, {u'confidence': 0.01486795776636598, u'task_ID': u'1516349105.4math_hw.jpg', u'label': 1, u'trueOrFalse': None, u'result': u'Cannot \\\\  Recognize', u'rightAnswer': None, u'coordinate': {u'y': 1388, u'x': 185, u'w': 100, u'h': 33}}, {u'confidence': 0.00663070438499866, u'task_ID': u'1516349105.4math_hw.jpg', u'label': 5, u'trueOrFalse': None, u'result': u'Cannot \\\\  Recognize', u'rightAnswer': None, u'coordinate': {u'y': 1338, u'x': 372, u'w': 148, u'h': 37}}, {u'confidence': 5.342639031405942e-08, u'task_ID': u'1516349105.4math_hw.jpg', u'label': 9, u'trueOrFalse': None, u'result': u'Cannot \\\\  Recognize', u'rightAnswer': None, u'coordinate': {u'y': 1247, u'x': 669, u'w': 65, u'h': 28}}, {u'confidence': 7.186371805072969e-05, u'task_ID': u'1516349105.4math_hw.jpg', u'label': 13, u'trueOrFalse': None, u'result': u'Cannot \\\\  Recognize', u'rightAnswer': None, u'coordinate': {u'y': 1190, u'x': 678, u'w': 250, u'h': 40}}, {u'confidence': 0.5491848269732512, u'task_ID': u'1516349105.4math_hw.jpg', u'label': 17, u'trueOrFalse': None, u'result': u'41 ', u'rightAnswer': None, u'coordinate': {u'y': 1108, u'x': 374, u'w': 73, u'h': 29}}, {u'confidence': 0.9960907651041156, u'task_ID': u'1516349105.4math_hw.jpg', u'label': 21, u'trueOrFalse': True, u'result': u'38 - 32 = 6 ', u'rightAnswer': None, u'coordinate': {u'y': 1055, u'x': 377, u'w': 200, u'h': 40}}, {u'confidence': 0.04981992061411921, u'task_ID': u'1516349105.4math_hw.jpg', u'label': 25, u'trueOrFalse': None, u'result': u'Cannot \\\\  Recognize', u'rightAnswer': None, u'coordinate': {u'y': 1009, u'x': 374, u'w': 93, u'h': 32}}, {u'confidence': 0.9986891647566609, u'task_ID': u'1516349105.4math_hw.jpg', u'label': 29, u'trueOrFalse': True, u'result': u'50 - 39 = 11 ', u'rightAnswer': None, u'coordinate': {u'y': 959, u'x': 69, u'w': 198, u'h': 36}}, {u'confidence': 0.8764124668004134, u'task_ID': u'1516349105.4math_hw.jpg', u'label': 33, u'trueOrFalse': True, u'result': u'38 + 27 = 65 ', u'rightAnswer': None, u'coordinate': {u'y': 909, u'x': 77, u'w': 213, u'h': 40}}, {u'confidence': 0.9879316135389015, u'task_ID': u'1516349105.4math_hw.jpg', u'label': 36, u'trueOrFalse': True, u'result': u'45 + 33 = 78 ', u'rightAnswer': None, u'coordinate': {u'y': 859, u'x': 73, u'w': 215, u'h': 45}}, {u'confidence': 0.001099631429977813, u'task_ID': u'1516349105.4math_hw.jpg', u'label': 40, u'trueOrFalse': None, u'result': u'Cannot \\\\  Recognize', u'rightAnswer': None, u'coordinate': {u'y': 776, u'x': 683, u'w': 273, u'h': 40}}, {u'confidence': 0.9634094254771698, u'task_ID': u'1516349105.4math_hw.jpg', u'label': 44, u'trueOrFalse': False, u'result': u'78 + 16 = - 94 ', u'rightAnswer': None, u'coordinate': {u'y': 705, u'x': 72, u'w': 215, u'h': 49}}, {u'confidence': 0.8972039278892661, u'task_ID': u'1516349105.4math_hw.jpg', u'label': 48, u'trueOrFalse': None, u'result': u'33 - ', u'rightAnswer': None, u'coordinate': {u'y': 658, u'x': 376, u'w': 77, u'h': 32}}, {u'confidence': 0.9865381712060401, u'task_ID': u'1516349105.4math_hw.jpg', u'label': 52, u'trueOrFalse': True, u'result': u'53 + 44 = 97 ', u'rightAnswer': None, u'coordinate': {u'y': 601, u'x': 68, u'w': 211, u'h': 53}}, {u'confidence': 0.8968782261451225, u'task_ID': u'1516349105.4math_hw.jpg', u'label': 56, u'trueOrFalse': True, u'result': u'62 + 31 = 93 ', u'rightAnswer': None, u'coordinate': {u'y': 546, u'x': 65, u'w': 212, u'h': 60}}, {u'confidence': 0.9873549548708441, u'task_ID': u'1516349105.4math_hw.jpg', u'label': 59, u'trueOrFalse': True, u'result': u'68 - 13 = 55 ', u'rightAnswer': None, u'coordinate': {u'y': 497, u'x': 57, u'w': 230, u'h': 53}}, {u'confidence': 0.030704314883027467, u'task_ID': u'1516349105.4math_hw.jpg', u'label': 63, u'trueOrFalse': None, u'result': u'Cannot \\\\  Recognize', u'rightAnswer': None, u'coordinate': {u'y': 395, u'x': 364, u'w': 197, u'h': 45}}, {u'confidence': 2.3537157910364866e-06, u'task_ID': u'1516349105.4math_hw.jpg', u'label': 67, u'trueOrFalse': None, u'result': u'Cannot \\\\  Recognize', u'rightAnswer': None, u'coordinate': {u'y': 294, u'x': 357, u'w': 271, u'h': 88}}, {u'confidence': 0.2192015791952608, u'task_ID': u'1516349105.4math_hw.jpg', u'label': 71, u'trueOrFalse': None, u'result': u'0.4 ', u'rightAnswer': None, u'coordinate': {u'y': 213, u'x': 925, u'w': 93, u'h': 53}}, {u'confidence': 0.04683195592456934, u'task_ID': u'1516349105.4math_hw.jpg', u'label': 3, u'trueOrFalse': None, u'result': u'Cannot \\\\  Recognize', u'rightAnswer': None, u'coordinate': {u'y': 1372, u'x': 481, u'w': 117, u'h': 56}}, {u'confidence': 0.9978691736018926, u'task_ID': u'1516349105.4math_hw.jpg', u'label': 11, u'trueOrFalse': True, u'result': u'26 - 17 = 9 ', u'rightAnswer': None, u'coordinate': {u'y': 1201, u'x': 96, u'w': 179, u'h': 44}}, {u'confidence': 0.9887633694586101, u'task_ID': u'1516349105.4math_hw.jpg', u'label': 19, u'trueOrFalse': True, u'result': u'75 - 37 = 38 ', u'rightAnswer': None, u'coordinate': {u'y': 1102, u'x': 79, u'w': 218, u'h': 45}}, {u'confidence': 0.04078849627634395, u'task_ID': u'1516349105.4math_hw.jpg', u'label': 27, u'trueOrFalse': None, u'result': u'Cannot \\\\  Recognize', u'rightAnswer': None, u'coordinate': {u'y': 987, u'x': 785, u'w': 148, u'h': 36}}, {u'confidence': 2.0863420177330158e-05, u'task_ID': u'1516349105.4math_hw.jpg', u'label': 34, u'trueOrFalse': None, u'result': u'Cannot \\\\  Recognize', u'rightAnswer': None, u'coordinate': {u'y': 882, u'x': 675, u'w': 280, u'h': 45}}, {u'confidence': 0.9662591370347295, u'task_ID': u'1516349105.4math_hw.jpg', u'label': 42, u'trueOrFalse': True, u'result': u'52 + 20 = 72 ', u'rightAnswer': None, u'coordinate': {u'y': 756, u'x': 374, u'w': 212, u'h': 45}}, {u'confidence': 1.2681964525688594e-05, u'task_ID': u'1516349105.4math_hw.jpg', u'label': 50, u'trueOrFalse': None, u'result': u'Cannot \\\\  Recognize', u'rightAnswer': None, u'coordinate': {u'y': 616, u'x': 685, u'w': 294, u'h': 37}}, {u'confidence': 1.0540695112087864e-10, u'task_ID': u'1516349105.4math_hw.jpg', u'label': 57, u'trueOrFalse': None, u'result': u'Cannot \\\\  Recognize', u'rightAnswer': None, u'coordinate': {u'y': 500, u'x': 679, u'w': 251, u'h': 49}}, {u'confidence': 0.9890969117155308, u'task_ID': u'1516349105.4math_hw.jpg', u'label': 65, u'trueOrFalse': True, u'result': u'16 + 27 = 43 ', u'rightAnswer': None, u'coordinate': {u'y': 390, u'x': 68, u'w': 209, u'h': 44}}, {u'confidence': 0.9912741334980072, u'task_ID': u'1516349105.4math_hw.jpg', u'label': 7, u'trueOrFalse': True, u'result': u'76 - 73 = 3 ', u'rightAnswer': None, u'coordinate': {u'y': 1244, u'x': 84, u'w': 189, u'h': 57}}, {u'confidence': 0.002938366320445736, u'task_ID': u'1516349105.4math_hw.jpg', u'label': 23, u'trueOrFalse': None, u'result': u'Cannot \\\\  Recognize', u'rightAnswer': None, u'coordinate': {u'y': 1030, u'x': 671, u'w': 239, u'h': 48}}, {u'confidence': 0.11234495326451571, u'task_ID': u'1516349105.4math_hw.jpg', u'label': 38, u'trueOrFalse': None, u'result': u'16 \\\\\\\\ d i v 4 = 4 = ', u'rightAnswer': None, u'coordinate': {u'y': 812, u'x': 382, u'w': 129, u'h': 33}}, {u'confidence': 0.05974102229505263, u'task_ID': u'1516349105.4math_hw.jpg', u'label': 54, u'trueOrFalse': False, u'result': u'1 x - x = x ', u'rightAnswer': None, u'coordinate': {u'y': 561, u'x': 799, u'w': 132, u'h': 37}}, {u'confidence': 0.0456135415987907, u'task_ID': u'1516349105.4math_hw.jpg', u'label': 69, u'trueOrFalse': None, u'result': u'Cannot \\\\  Recognize', u'rightAnswer': None, u'coordinate': {u'y': 241, u'x': 852, u'w': 164, u'h': 48}}, {u'confidence': 0.999184110016592, u'task_ID': u'1516349105.4math_hw.jpg', u'label': 15, u'trueOrFalse': True, u'result': u'49 - 36 = 13 ', u'rightAnswer': None, u'coordinate': {u'y': 1150, u'x': 80, u'w': 198, u'h': 49}}, {u'confidence': 0.00017993583893682056, u'task_ID': u'1516349105.4math_hw.jpg', u'label': 46, u'trueOrFalse': None, u'result': u'Cannot \\\\  Recognize', u'rightAnswer': None, u'coordinate': {u'y': 665, u'x': 676, u'w': 282, u'h': 48}}, {u'confidence': 0.009055234578305088, u'task_ID': u'1516349105.4math_hw.jpg', u'label': 31, u'trueOrFalse': None, u'result': u'Cannot \\\\  Recognize', u'rightAnswer': None, u'coordinate': {u'y': 934, u'x': 694, u'w': 206, u'h': 40}}, {u'confidence': 0.0003512061653195083, u'task_ID': u'1516349105.4math_hw.jpg', u'label': 61, u'trueOrFalse': None, u'result': u'Cannot \\\\  Recognize', u'rightAnswer': None, u'coordinate': {u'y': 446, u'x': 681, u'w': 287, u'h': 48}}]}, u'correctRate': 0.3287671232876712}\n",
      "16.2206289768\n"
     ]
    }
   ],
   "source": [
    "start_time = time.time()\n",
    "result = worker('math_hw.jpg')\n",
    "print str(time.time() - start_time)"
   ]
  },
  {
   "cell_type": "code",
   "execution_count": null,
   "metadata": {
    "collapsed": true
   },
   "outputs": [],
   "source": []
  }
 ],
 "metadata": {
  "kernelspec": {
   "display_name": "Python 2",
   "language": "python",
   "name": "python2"
  },
  "language_info": {
   "codemirror_mode": {
    "name": "ipython",
    "version": 2
   },
   "file_extension": ".py",
   "mimetype": "text/x-python",
   "name": "python",
   "nbconvert_exporter": "python",
   "pygments_lexer": "ipython2",
   "version": "2.7.14"
  }
 },
 "nbformat": 4,
 "nbformat_minor": 2
}
